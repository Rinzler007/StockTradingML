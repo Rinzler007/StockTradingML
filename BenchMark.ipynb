{
 "cells": [
  {
   "cell_type": "code",
   "execution_count": 1,
   "metadata": {},
   "outputs": [],
   "source": [
    "import pandas as pd"
   ]
  },
  {
   "cell_type": "code",
   "execution_count": 2,
   "metadata": {},
   "outputs": [
    {
     "data": {
      "text/html": [
       "<div>\n",
       "<style scoped>\n",
       "    .dataframe tbody tr th:only-of-type {\n",
       "        vertical-align: middle;\n",
       "    }\n",
       "\n",
       "    .dataframe tbody tr th {\n",
       "        vertical-align: top;\n",
       "    }\n",
       "\n",
       "    .dataframe thead th {\n",
       "        text-align: right;\n",
       "    }\n",
       "</style>\n",
       "<table border=\"1\" class=\"dataframe\">\n",
       "  <thead>\n",
       "    <tr style=\"text-align: right;\">\n",
       "      <th></th>\n",
       "      <th>Closing</th>\n",
       "      <th>Decision</th>\n",
       "    </tr>\n",
       "  </thead>\n",
       "  <tbody>\n",
       "    <tr>\n",
       "      <th>0</th>\n",
       "      <td>5.978000</td>\n",
       "      <td>Yes</td>\n",
       "    </tr>\n",
       "    <tr>\n",
       "      <th>1</th>\n",
       "      <td>6.198000</td>\n",
       "      <td>Yes</td>\n",
       "    </tr>\n",
       "    <tr>\n",
       "      <th>2</th>\n",
       "      <td>6.680000</td>\n",
       "      <td>Yes</td>\n",
       "    </tr>\n",
       "    <tr>\n",
       "      <th>3</th>\n",
       "      <td>6.914000</td>\n",
       "      <td>Yes</td>\n",
       "    </tr>\n",
       "    <tr>\n",
       "      <th>4</th>\n",
       "      <td>7.094000</td>\n",
       "      <td>Yes</td>\n",
       "    </tr>\n",
       "    <tr>\n",
       "      <th>...</th>\n",
       "      <td>...</td>\n",
       "      <td>...</td>\n",
       "    </tr>\n",
       "    <tr>\n",
       "      <th>2858</th>\n",
       "      <td>1099.569946</td>\n",
       "      <td>Yes</td>\n",
       "    </tr>\n",
       "    <tr>\n",
       "      <th>2859</th>\n",
       "      <td>1093.989990</td>\n",
       "      <td>Yes</td>\n",
       "    </tr>\n",
       "    <tr>\n",
       "      <th>2860</th>\n",
       "      <td>1077.599976</td>\n",
       "      <td>Yes</td>\n",
       "    </tr>\n",
       "    <tr>\n",
       "      <th>2861</th>\n",
       "      <td>1084.589966</td>\n",
       "      <td>Yes</td>\n",
       "    </tr>\n",
       "    <tr>\n",
       "      <th>2862</th>\n",
       "      <td>1145.449951</td>\n",
       "      <td>Yes</td>\n",
       "    </tr>\n",
       "  </tbody>\n",
       "</table>\n",
       "<p>2863 rows × 2 columns</p>\n",
       "</div>"
      ],
      "text/plain": [
       "          Closing Decision\n",
       "0        5.978000      Yes\n",
       "1        6.198000      Yes\n",
       "2        6.680000      Yes\n",
       "3        6.914000      Yes\n",
       "4        7.094000      Yes\n",
       "...           ...      ...\n",
       "2858  1099.569946      Yes\n",
       "2859  1093.989990      Yes\n",
       "2860  1077.599976      Yes\n",
       "2861  1084.589966      Yes\n",
       "2862  1145.449951      Yes\n",
       "\n",
       "[2863 rows x 2 columns]"
      ]
     },
     "execution_count": 2,
     "metadata": {},
     "output_type": "execute_result"
    }
   ],
   "source": [
    "tsla = pd.read_csv(\"FinalDataFrame.csv\")\n",
    "tsla = tsla.drop(['Unnamed: 0', 'RSI', 'MACD', 'BB', 'SMA1', 'SMA2'], 1)\n",
    "tsla"
   ]
  },
  {
   "cell_type": "code",
   "execution_count": 7,
   "metadata": {},
   "outputs": [
    {
     "name": "stdout",
     "output_type": "stream",
     "text": [
      "1232.8919759999997\n",
      "2372.363927\n",
      "1486\n",
      "1376\n"
     ]
    }
   ],
   "source": [
    "gain = 0\n",
    "loss = 0\n",
    "Y = 0\n",
    "N = 0\n",
    "for i in range(1, 2863):\n",
    "    if tsla.iloc[i, 1] == 'Yes':\n",
    "        gain = gain + (tsla.iloc[i,0]-tsla.iloc[i-1,0])\n",
    "        Y = Y + 1 \n",
    "    else:\n",
    "        loss = loss + (tsla.iloc[i-1,0]-tsla.iloc[i,0])\n",
    "        N = N + 1\n",
    "        \n",
    "print(loss)\n",
    "print(gain)\n",
    "print(Y)\n",
    "print(N)"
   ]
  },
  {
   "cell_type": "code",
   "execution_count": 8,
   "metadata": {},
   "outputs": [
    {
     "name": "stdout",
     "output_type": "stream",
     "text": [
      "1.5964763977119785\n",
      "0.8959970755813951\n"
     ]
    }
   ],
   "source": [
    "avgGain = gain/Y\n",
    "avgLoss = loss/N\n",
    "print(avgGain)\n",
    "print(avgLoss)"
   ]
  },
  {
   "cell_type": "code",
   "execution_count": 9,
   "metadata": {},
   "outputs": [
    {
     "data": {
      "text/plain": [
       "2372.363927"
      ]
     },
     "execution_count": 9,
     "metadata": {},
     "output_type": "execute_result"
    }
   ],
   "source": [
    "Y = (Y*avgGain)\n",
    "Y"
   ]
  },
  {
   "cell_type": "code",
   "execution_count": 10,
   "metadata": {},
   "outputs": [
    {
     "data": {
      "text/plain": [
       "1232.8919759999997"
      ]
     },
     "execution_count": 10,
     "metadata": {},
     "output_type": "execute_result"
    }
   ],
   "source": [
    "N = (N*avgLoss)\n",
    "N"
   ]
  },
  {
   "cell_type": "code",
   "execution_count": 11,
   "metadata": {},
   "outputs": [
    {
     "name": "stdout",
     "output_type": "stream",
     "text": [
      "Accuracy: 82.86286856444289 %\n",
      "Precision: 65.80292747113769 %\n",
      "Recall: 100.0 %\n",
      "F1: 79.37486807353555 %\n"
     ]
    }
   ],
   "source": [
    "accuracy = (Y/2863)*100\n",
    "precision = (Y/(Y+N))*100\n",
    "recall = (Y/(Y+0))*100\n",
    "f1 = (2*((precision*recall)/(precision+recall)))\n",
    "print('Accuracy: ' + str(accuracy) + ' %\\nPrecision: ' + str(precision) + ' %\\nRecall: ' + str(recall) + ' %\\nF1: ' + str(f1) + ' %')"
   ]
  },
  {
   "cell_type": "code",
   "execution_count": null,
   "metadata": {},
   "outputs": [],
   "source": []
  }
 ],
 "metadata": {
  "kernelspec": {
   "display_name": "Python 3",
   "language": "python",
   "name": "python3"
  },
  "language_info": {
   "codemirror_mode": {
    "name": "ipython",
    "version": 3
   },
   "file_extension": ".py",
   "mimetype": "text/x-python",
   "name": "python",
   "nbconvert_exporter": "python",
   "pygments_lexer": "ipython3",
   "version": "3.7.6"
  }
 },
 "nbformat": 4,
 "nbformat_minor": 4
}
