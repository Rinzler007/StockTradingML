{
 "cells": [
  {
   "cell_type": "code",
   "execution_count": 1,
   "metadata": {},
   "outputs": [],
   "source": [
    "import pandas as pd\n",
    "from chefboost import Chefboost as chef"
   ]
  },
  {
   "cell_type": "code",
   "execution_count": 2,
   "metadata": {},
   "outputs": [
    {
     "data": {
      "text/html": [
       "<div>\n",
       "<style scoped>\n",
       "    .dataframe tbody tr th:only-of-type {\n",
       "        vertical-align: middle;\n",
       "    }\n",
       "\n",
       "    .dataframe tbody tr th {\n",
       "        vertical-align: top;\n",
       "    }\n",
       "\n",
       "    .dataframe thead th {\n",
       "        text-align: right;\n",
       "    }\n",
       "</style>\n",
       "<table border=\"1\" class=\"dataframe\">\n",
       "  <thead>\n",
       "    <tr style=\"text-align: right;\">\n",
       "      <th></th>\n",
       "      <th>Closing</th>\n",
       "      <th>RSI</th>\n",
       "      <th>MACD</th>\n",
       "      <th>BB</th>\n",
       "      <th>SMA1</th>\n",
       "      <th>SMA2</th>\n",
       "      <th>Decision</th>\n",
       "    </tr>\n",
       "  </thead>\n",
       "  <tbody>\n",
       "    <tr>\n",
       "      <th>0</th>\n",
       "      <td>5.978000</td>\n",
       "      <td>Hold</td>\n",
       "      <td>Buy</td>\n",
       "      <td>Hold</td>\n",
       "      <td>Buy</td>\n",
       "      <td>Buy</td>\n",
       "      <td>Yes</td>\n",
       "    </tr>\n",
       "    <tr>\n",
       "      <th>1</th>\n",
       "      <td>6.198000</td>\n",
       "      <td>Sell</td>\n",
       "      <td>Buy</td>\n",
       "      <td>Hold</td>\n",
       "      <td>Buy</td>\n",
       "      <td>Buy</td>\n",
       "      <td>Yes</td>\n",
       "    </tr>\n",
       "    <tr>\n",
       "      <th>2</th>\n",
       "      <td>6.680000</td>\n",
       "      <td>Sell</td>\n",
       "      <td>Buy</td>\n",
       "      <td>Hold</td>\n",
       "      <td>Buy</td>\n",
       "      <td>Buy</td>\n",
       "      <td>Yes</td>\n",
       "    </tr>\n",
       "    <tr>\n",
       "      <th>3</th>\n",
       "      <td>6.914000</td>\n",
       "      <td>Sell</td>\n",
       "      <td>Buy</td>\n",
       "      <td>Hold</td>\n",
       "      <td>Buy</td>\n",
       "      <td>Buy</td>\n",
       "      <td>Yes</td>\n",
       "    </tr>\n",
       "    <tr>\n",
       "      <th>4</th>\n",
       "      <td>7.094000</td>\n",
       "      <td>Sell</td>\n",
       "      <td>Buy</td>\n",
       "      <td>Hold</td>\n",
       "      <td>Buy</td>\n",
       "      <td>Buy</td>\n",
       "      <td>Yes</td>\n",
       "    </tr>\n",
       "    <tr>\n",
       "      <th>...</th>\n",
       "      <td>...</td>\n",
       "      <td>...</td>\n",
       "      <td>...</td>\n",
       "      <td>...</td>\n",
       "      <td>...</td>\n",
       "      <td>...</td>\n",
       "      <td>...</td>\n",
       "    </tr>\n",
       "    <tr>\n",
       "      <th>2858</th>\n",
       "      <td>1099.569946</td>\n",
       "      <td>Sell</td>\n",
       "      <td>Buy</td>\n",
       "      <td>Hold</td>\n",
       "      <td>Sell</td>\n",
       "      <td>Buy</td>\n",
       "      <td>Yes</td>\n",
       "    </tr>\n",
       "    <tr>\n",
       "      <th>2859</th>\n",
       "      <td>1093.989990</td>\n",
       "      <td>Sell</td>\n",
       "      <td>Buy</td>\n",
       "      <td>Hold</td>\n",
       "      <td>Sell</td>\n",
       "      <td>Buy</td>\n",
       "      <td>Yes</td>\n",
       "    </tr>\n",
       "    <tr>\n",
       "      <th>2860</th>\n",
       "      <td>1077.599976</td>\n",
       "      <td>Sell</td>\n",
       "      <td>Buy</td>\n",
       "      <td>Hold</td>\n",
       "      <td>Sell</td>\n",
       "      <td>Buy</td>\n",
       "      <td>Yes</td>\n",
       "    </tr>\n",
       "    <tr>\n",
       "      <th>2861</th>\n",
       "      <td>1084.589966</td>\n",
       "      <td>Sell</td>\n",
       "      <td>Buy</td>\n",
       "      <td>Hold</td>\n",
       "      <td>Sell</td>\n",
       "      <td>Buy</td>\n",
       "      <td>Yes</td>\n",
       "    </tr>\n",
       "    <tr>\n",
       "      <th>2862</th>\n",
       "      <td>1145.449951</td>\n",
       "      <td>Sell</td>\n",
       "      <td>Buy</td>\n",
       "      <td>Hold</td>\n",
       "      <td>Sell</td>\n",
       "      <td>Buy</td>\n",
       "      <td>Yes</td>\n",
       "    </tr>\n",
       "  </tbody>\n",
       "</table>\n",
       "<p>2863 rows × 7 columns</p>\n",
       "</div>"
      ],
      "text/plain": [
       "          Closing   RSI MACD    BB  SMA1 SMA2 Decision\n",
       "0        5.978000  Hold  Buy  Hold   Buy  Buy      Yes\n",
       "1        6.198000  Sell  Buy  Hold   Buy  Buy      Yes\n",
       "2        6.680000  Sell  Buy  Hold   Buy  Buy      Yes\n",
       "3        6.914000  Sell  Buy  Hold   Buy  Buy      Yes\n",
       "4        7.094000  Sell  Buy  Hold   Buy  Buy      Yes\n",
       "...           ...   ...  ...   ...   ...  ...      ...\n",
       "2858  1099.569946  Sell  Buy  Hold  Sell  Buy      Yes\n",
       "2859  1093.989990  Sell  Buy  Hold  Sell  Buy      Yes\n",
       "2860  1077.599976  Sell  Buy  Hold  Sell  Buy      Yes\n",
       "2861  1084.589966  Sell  Buy  Hold  Sell  Buy      Yes\n",
       "2862  1145.449951  Sell  Buy  Hold  Sell  Buy      Yes\n",
       "\n",
       "[2863 rows x 7 columns]"
      ]
     },
     "execution_count": 2,
     "metadata": {},
     "output_type": "execute_result"
    }
   ],
   "source": [
    "tsla = pd.read_csv(\"FinalDataFrame.csv\")\n",
    "tsla = tsla.drop('Unnamed: 0', 1)\n",
    "tsla"
   ]
  },
  {
   "cell_type": "code",
   "execution_count": 3,
   "metadata": {},
   "outputs": [
    {
     "name": "stderr",
     "output_type": "stream",
     "text": [
      "Sub decision tree 1 is processing:   0%|          | 0/25 [00:00<?, ?it/s]"
     ]
    },
    {
     "name": "stdout",
     "output_type": "stream",
     "text": [
      "ID3  tree is going to be built...\n"
     ]
    },
    {
     "name": "stderr",
     "output_type": "stream",
     "text": [
      "Sub decision tree 25 is processing: 100%|██████████| 25/25 [00:49<00:00,  1.97s/it]\n"
     ]
    },
    {
     "name": "stdout",
     "output_type": "stream",
     "text": [
      "-------------------------\n",
      "Evaluate  train set\n",
      "-------------------------\n",
      "Accuracy:  71.14914425427872 % on  2863  instances\n",
      "Labels:  ['Yes' 'No']\n",
      "Confusion matrix:  [[793, 132], [694, 1244]]\n",
      "Precision:  85.7297 %, Recall:  53.3289 %, F1:  65.7546 %\n",
      "-------------------------\n",
      "finished in  49.635804891586304  seconds\n"
     ]
    }
   ],
   "source": [
    "config = {'enableRandomForest': True, 'num_of_trees': 25}\n",
    "modelRF = chef.fit(tsla, config)"
   ]
  },
  {
   "cell_type": "code",
   "execution_count": null,
   "metadata": {},
   "outputs": [],
   "source": []
  }
 ],
 "metadata": {
  "kernelspec": {
   "display_name": "Python 3",
   "language": "python",
   "name": "python3"
  },
  "language_info": {
   "codemirror_mode": {
    "name": "ipython",
    "version": 3
   },
   "file_extension": ".py",
   "mimetype": "text/x-python",
   "name": "python",
   "nbconvert_exporter": "python",
   "pygments_lexer": "ipython3",
   "version": "3.7.6"
  }
 },
 "nbformat": 4,
 "nbformat_minor": 4
}
